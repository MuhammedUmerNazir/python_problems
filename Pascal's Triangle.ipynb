{
 "cells": [
  {
   "cell_type": "code",
   "execution_count": 44,
   "id": "01aa7b97",
   "metadata": {},
   "outputs": [],
   "source": [
    "def generate(numRows):\n",
    "    l_main = [[] for i in range(numRows)]\n",
    "    for i in range(numRows+1):\n",
    "       C = 1\n",
    "       for j in range(1, i+1):\n",
    "          l_main[i-1].append(C)\n",
    "          C = C * (i - j) // j\n",
    "    return l_main   \n"
   ]
  },
  {
   "cell_type": "code",
   "execution_count": 49,
   "id": "907c6ae0",
   "metadata": {},
   "outputs": [
    {
     "data": {
      "text/plain": [
       "[]"
      ]
     },
     "execution_count": 49,
     "metadata": {},
     "output_type": "execute_result"
    }
   ],
   "source": [
    "generate(-1)"
   ]
  },
  {
   "cell_type": "code",
   "execution_count": null,
   "id": "f4645b46",
   "metadata": {},
   "outputs": [],
   "source": []
  }
 ],
 "metadata": {
  "kernelspec": {
   "display_name": "Python 3 (ipykernel)",
   "language": "python",
   "name": "python3"
  },
  "language_info": {
   "codemirror_mode": {
    "name": "ipython",
    "version": 3
   },
   "file_extension": ".py",
   "mimetype": "text/x-python",
   "name": "python",
   "nbconvert_exporter": "python",
   "pygments_lexer": "ipython3",
   "version": "3.10.4"
  }
 },
 "nbformat": 4,
 "nbformat_minor": 5
}
