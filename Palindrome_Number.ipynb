{
  "nbformat": 4,
  "nbformat_minor": 0,
  "metadata": {
    "colab": {
      "name": "Palindrome Number.ipynb",
      "provenance": []
    },
    "kernelspec": {
      "name": "python3",
      "display_name": "Python 3"
    },
    "language_info": {
      "name": "python"
    }
  },
  "cells": [
    {
      "cell_type": "code",
      "execution_count": 24,
      "metadata": {
        "id": "8huNmjRrl8z4"
      },
      "outputs": [],
      "source": [
        "def isPalindrome1(x):\n",
        "    x = str(x)\n",
        "    for n in range(len(x)):\n",
        "      if int(x[n]) != int(x[(len(x)-1)-n]):\n",
        "        return False\n",
        "      else:\n",
        "        continue\n",
        "    return True"
      ]
    },
    {
      "cell_type": "code",
      "source": [
        "x='-121'\n",
        "print(x[0])\n",
        "int(x)"
      ],
      "metadata": {
        "colab": {
          "base_uri": "https://localhost:8080/"
        },
        "id": "j68y9ug2ywRZ",
        "outputId": "113195ce-f817-48db-e821-d9a43d28a646"
      },
      "execution_count": 25,
      "outputs": [
        {
          "output_type": "stream",
          "name": "stdout",
          "text": [
            "-\n"
          ]
        },
        {
          "output_type": "execute_result",
          "data": {
            "text/plain": [
              "-121"
            ]
          },
          "metadata": {},
          "execution_count": 25
        }
      ]
    },
    {
      "cell_type": "code",
      "source": [
        "def isPalindrome2(x):\n",
        "  if x == 0: digits = [0]\n",
        "  isNeg = x < 0\n",
        "  x = abs(x)\n",
        "  digits = []\n",
        "  while x > 0:\n",
        "    digits.append(x % 10)\n",
        "    x//=10\n",
        "  if isNeg : digits[-1] *= -1\n",
        "  digits1 = digits[::-1]\n",
        "  if digits == digits1: return True\n",
        "  else: return False"
      ],
      "metadata": {
        "id": "J1e2QBRzm0XB"
      },
      "execution_count": 26,
      "outputs": []
    },
    {
      "cell_type": "code",
      "source": [
        "isPalindrome2(-121)"
      ],
      "metadata": {
        "colab": {
          "base_uri": "https://localhost:8080/"
        },
        "id": "scGF0k3cbE1W",
        "outputId": "34c24676-2ab6-4543-a099-361f85ec2657"
      },
      "execution_count": 27,
      "outputs": [
        {
          "output_type": "execute_result",
          "data": {
            "text/plain": [
              "False"
            ]
          },
          "metadata": {},
          "execution_count": 27
        }
      ]
    },
    {
      "cell_type": "code",
      "source": [
        "def isPalindrome3(x):\n",
        "  x = str(x)\n",
        "  if (x == x[::-1]):\n",
        "    return True\n",
        "  return False "
      ],
      "metadata": {
        "id": "zTrRExs3fVii"
      },
      "execution_count": 30,
      "outputs": []
    },
    {
      "cell_type": "code",
      "source": [
        "isPalindrome3(12321)"
      ],
      "metadata": {
        "colab": {
          "base_uri": "https://localhost:8080/"
        },
        "id": "FhBcWIfDfwaS",
        "outputId": "0e520176-3b01-4131-8b14-3803130c4f7c"
      },
      "execution_count": 33,
      "outputs": [
        {
          "output_type": "execute_result",
          "data": {
            "text/plain": [
              "True"
            ]
          },
          "metadata": {},
          "execution_count": 33
        }
      ]
    }
  ]
}